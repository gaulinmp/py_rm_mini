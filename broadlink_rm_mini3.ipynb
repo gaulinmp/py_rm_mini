{
 "cells": [
  {
   "cell_type": "code",
   "execution_count": null,
   "metadata": {
    "collapsed": true
   },
   "outputs": [],
   "source": [
    "import os\n",
    "import sys\n",
    "sys.path.append(os.path.expanduser(\"~/Dropbox/Documents/Programming/Python/python-broadlink/\"))"
   ]
  },
  {
   "cell_type": "code",
   "execution_count": null,
   "metadata": {
    "collapsed": true
   },
   "outputs": [],
   "source": [
    "import ipywidgets as widgets\n",
    "from IPython.display import display"
   ]
  },
  {
   "cell_type": "code",
   "execution_count": null,
   "metadata": {
    "collapsed": true
   },
   "outputs": [],
   "source": [
    "IR_DATA_DIR = os.path.expanduser(\"~/Dropbox/Documents/Programming/Python/py_rm_mini/ir_data/\")\n",
    "IR_DATA_EXT = '.irdump'"
   ]
  },
  {
   "cell_type": "code",
   "execution_count": null,
   "metadata": {
    "collapsed": true
   },
   "outputs": [],
   "source": [
    "import broadlink\n",
    "# Doesn't seem to need this:\n",
    "# broadlink.setup('ESSID', 'PASSWORD', 3)"
   ]
  },
  {
   "cell_type": "code",
   "execution_count": null,
   "metadata": {
    "collapsed": true
   },
   "outputs": [],
   "source": [
    "devices = broadlink.discover(timeout=5)"
   ]
  },
  {
   "cell_type": "code",
   "execution_count": null,
   "metadata": {
    "collapsed": false
   },
   "outputs": [],
   "source": [
    "devices, devices[0]"
   ]
  },
  {
   "cell_type": "code",
   "execution_count": null,
   "metadata": {
    "collapsed": false
   },
   "outputs": [],
   "source": [
    "devices[0].auth()"
   ]
  },
  {
   "cell_type": "code",
   "execution_count": null,
   "metadata": {
    "collapsed": true
   },
   "outputs": [],
   "source": [
    "dir(devices[0])"
   ]
  },
  {
   "cell_type": "code",
   "execution_count": null,
   "metadata": {
    "collapsed": false
   },
   "outputs": [],
   "source": [
    "if \"Capture IR\":\n",
    "    b_start = widgets.Button(description=\"Capture IR\")\n",
    "    b_stop = widgets.Button(description=\"Save IR\")\n",
    "    device_name = widgets.Text(\n",
    "        placeholder='Enter Device Name',\n",
    "        description='Device Name:')\n",
    "    button_name = widgets.Text(\n",
    "        placeholder='Enter Button',\n",
    "        description='Button:')\n",
    "\n",
    "    for c in [b_start, b_stop, device_name, button_name]:\n",
    "        display(c)\n",
    "\n",
    "    def enter_learning(b):\n",
    "        devices[0].enter_learning()\n",
    "\n",
    "    def save_ir(b):\n",
    "        path = os.path.join(IR_DATA_DIR, device_name.value, button_name.value + IR_DATA_EXT)\n",
    "        devices[0].check_data()\n",
    "        _irdat = devices[0].check_data()\n",
    "\n",
    "        if not os.path.exists(os.path.dirname(path)):\n",
    "            os.mkdir(os.path.dirname(path))\n",
    "\n",
    "        with open(path, 'wb') as fh:\n",
    "            fh.write(_irdat)\n",
    "\n",
    "    b_start.on_click(enter_learning)\n",
    "    b_stop.on_click(save_ir)"
   ]
  },
  {
   "cell_type": "code",
   "execution_count": null,
   "metadata": {
    "collapsed": false
   },
   "outputs": [],
   "source": [
    "if \"Send IR\":\n",
    "    dev_strings = os.listdir(IR_DATA_DIR)\n",
    "    def get_commands(device):\n",
    "        return [x[:-len(IR_DATA_EXT)] \n",
    "                for x in os.listdir(os.path.join(IR_DATA_DIR, device)) \n",
    "                if IR_DATA_EXT in x]\n",
    "\n",
    "    s_device = widgets.Select(\n",
    "        options=dev_strings,\n",
    "        value=dev_strings[0],\n",
    "        description='Device:'\n",
    "    )\n",
    "    s_command = widgets.Select(\n",
    "        options=get_commands(dev_strings[0]),\n",
    "        description='Command:'\n",
    "    )\n",
    "\n",
    "    b_send = widgets.Button(description=\"Send IR\")\n",
    "\n",
    "    display(s_device, s_command, b_send)\n",
    "\n",
    "    def send_command(b):\n",
    "        path = os.path.join(IR_DATA_DIR, s_device.value, s_command.value + IR_DATA_EXT)\n",
    "        with open(path, 'rb') as fh:\n",
    "            devices[0].send_data(fh.read())\n",
    "\n",
    "    def switch_device(b):\n",
    "        s_command.options = get_commands(s_device.value)\n",
    "\n",
    "    b_send.on_click(send_command)\n",
    "    s_device.observe(switch_device)"
   ]
  },
  {
   "cell_type": "code",
   "execution_count": null,
   "metadata": {
    "collapsed": true
   },
   "outputs": [],
   "source": []
  }
 ],
 "metadata": {
  "kernelspec": {
   "display_name": "Python 3",
   "language": "python",
   "name": "python3"
  },
  "language_info": {
   "codemirror_mode": {
    "name": "ipython",
    "version": 3
   },
   "file_extension": ".py",
   "mimetype": "text/x-python",
   "name": "python",
   "nbconvert_exporter": "python",
   "pygments_lexer": "ipython3",
   "version": "3.5.4"
  },
  "widgets": {
   "state": {
    "0d52963713dd40bf92a795e91b4f9937": {
     "views": [
      {
       "cell_index": 7
      }
     ]
    },
    "1645984e2386453ba8310a5940561026": {
     "views": [
      {
       "cell_index": 7
      }
     ]
    },
    "1a503c3ac98a4f6e87bb52d03015d21e": {
     "views": [
      {
       "cell_index": 12
      }
     ]
    },
    "203c57f4d3224a979b2b7baf50e5f43f": {
     "views": [
      {
       "cell_index": 13
      }
     ]
    },
    "28920fa482f04b218dc4a54a99a768a9": {
     "views": [
      {
       "cell_index": 12
      }
     ]
    },
    "47ce8c7fc0af4c0aa999ea3dc373b3ac": {
     "views": [
      {
       "cell_index": 12
      }
     ]
    },
    "4f2f68d4342a41e2ad57939f867a6b2a": {
     "views": [
      {
       "cell_index": 12
      }
     ]
    },
    "5dc4e066cf51405eb2016106c251d366": {
     "views": [
      {
       "cell_index": 7
      }
     ]
    },
    "6879e0fd9b8d4493ae9b796423fe8570": {
     "views": [
      {
       "cell_index": 12
      }
     ]
    },
    "8073d731b5a14621915222ecbbeb06d7": {
     "views": [
      {
       "cell_index": 7
      }
     ]
    },
    "917a933aee154fc5a53f0e8dd5cf8779": {
     "views": [
      {
       "cell_index": 8
      }
     ]
    },
    "9283a316214a4eac94f820ea3e241366": {
     "views": [
      {
       "cell_index": 13
      }
     ]
    },
    "9de94787216b4d3b8fc8992cbe02a816": {
     "views": [
      {
       "cell_index": 12
      }
     ]
    },
    "9fe33992c31c4792a663fc0df2409f0c": {
     "views": [
      {
       "cell_index": 12
      }
     ]
    },
    "a18461adaf3e4b1292f5715009c7a903": {
     "views": [
      {
       "cell_index": 13
      }
     ]
    },
    "a42323185b3c4e839bdf4fb7df7ac23a": {
     "views": [
      {
       "cell_index": 13
      }
     ]
    },
    "a65293bd5b3c4ec891ece0af3837b518": {
     "views": [
      {
       "cell_index": 8
      }
     ]
    },
    "a91780e988b74731bc0bc079398cd91e": {
     "views": [
      {
       "cell_index": 12
      }
     ]
    },
    "ab64d24aa5ea41ebb749316320b195a6": {
     "views": [
      {
       "cell_index": 13
      }
     ]
    },
    "b56b96206dd4416e98f1b7d0e625b69a": {
     "views": [
      {
       "cell_index": 8
      }
     ]
    },
    "d9dd8a41c310453a8ba7ba96b0e9ba48": {
     "views": [
      {
       "cell_index": 12
      }
     ]
    },
    "f17f2b3886544e0aa7a56b0a12ced95f": {
     "views": [
      {
       "cell_index": 12
      }
     ]
    }
   },
   "version": "1.2.0"
  }
 },
 "nbformat": 4,
 "nbformat_minor": 2
}
